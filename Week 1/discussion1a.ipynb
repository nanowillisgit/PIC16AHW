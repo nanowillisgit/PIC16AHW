{
 "cells": [
  {
   "cell_type": "markdown",
   "metadata": {},
   "source": [
    "**More on Strings and Lists**\n",
    "\n",
    "In lecture, we learned about variable assignments and basic operations on strings and lists.\n",
    "\n",
    "As a self-check to see how much you remember, think about what the output of the code below will be, and then run it."
   ]
  },
  {
   "cell_type": "code",
   "execution_count": null,
   "metadata": {},
   "outputs": [],
   "source": [
    "s = \"abcde\"\n",
    "l = [2,4,6,8,10]\n",
    "\n",
    "print(s[-2])\n",
    "print(s[1:3])\n",
    "print(l[4])"
   ]
  },
  {
   "cell_type": "markdown",
   "metadata": {},
   "source": [
    "We'll cover more you can do with strings and lists.  Most of these will be **methods**, like `string.split()` from lecture, but we will also cover some **operators**, like `+`.  Some important methods will be covered today that you might've already seen (or will see) in lecture, hopefully the repetition will help you remember them!"
   ]
  },
  {
   "cell_type": "markdown",
   "metadata": {},
   "source": [
    "**Equality with lists and strings**\n",
    "\n",
    "Python has two types of \"are these two the same?\" operators: `==` (equality) and `is` (identity).  `==` checks to see if two expressions have the same value, while `is` checks to see if they have the same reference.\n",
    "\n",
    "First, let's start with `==`.  This checks if two things are equal.  With strings, this is pretty intuitive, two strings are equal whenever they have exactly the same characters."
   ]
  },
  {
   "cell_type": "code",
   "execution_count": null,
   "metadata": {},
   "outputs": [],
   "source": [
    "\"word\" == \"word\""
   ]
  },
  {
   "cell_type": "code",
   "execution_count": null,
   "metadata": {},
   "outputs": [],
   "source": [
    "\"word\" == \"WORD\""
   ]
  },
  {
   "cell_type": "markdown",
   "metadata": {},
   "source": [
    "Lists work the same way.  Two lists are equal whenever they have the same elements."
   ]
  },
  {
   "cell_type": "code",
   "execution_count": null,
   "metadata": {},
   "outputs": [],
   "source": [
    "[\"apple\", \"apple\", \"apple\"] == [\"apple\", \"apple\", \"apple\"]"
   ]
  },
  {
   "cell_type": "code",
   "execution_count": null,
   "metadata": {},
   "outputs": [],
   "source": [
    "[\"apple\", \"apple\", \"apple\"] == [\"orange\", \"orange\", \"orange\"]"
   ]
  },
  {
   "cell_type": "markdown",
   "metadata": {},
   "source": [
    "When checking equality, Python doesn't care whether two lists are the same, they just care if they have the same value.  This is different from some other programming languages."
   ]
  },
  {
   "cell_type": "code",
   "execution_count": null,
   "metadata": {},
   "outputs": [],
   "source": [
    "a = [\"🍎\", \"🍎\", \"🍎\"] # these are apple (the fruit) emojis if they don't display on your computer\n",
    "b = [\"🍎\", \"🍎\", \"🍎\"]\n",
    "print(a == b)\n",
    "b[0] = \"apple\"\n",
    "print(a == b)"
   ]
  },
  {
   "cell_type": "markdown",
   "metadata": {},
   "source": [
    "If you want to check whether two lists are have the same *reference* (that is, they are exactly the same and changing one changes the other), Python has `is`."
   ]
  },
  {
   "cell_type": "code",
   "execution_count": null,
   "metadata": {},
   "outputs": [],
   "source": [
    "a = [10, 20, 30]\n",
    "b = [10, 20, 30]\n",
    "c = a\n",
    "\n",
    "print(a is b)\n",
    "print(a is c)"
   ]
  },
  {
   "cell_type": "markdown",
   "metadata": {},
   "source": [
    "Because strings are immutable, you don't have to worry about what `is` does on strings because it won't ever matter."
   ]
  },
  {
   "cell_type": "markdown",
   "metadata": {},
   "source": [
    "**The `in` operator**\n",
    "\n",
    "A useful operator for lists and strings (and other data types we will see later) is `in`.  This checks if some value is, well, in some list or string.\n",
    "\n",
    "Here are some examples:"
   ]
  },
  {
   "cell_type": "code",
   "execution_count": null,
   "metadata": {},
   "outputs": [],
   "source": [
    "\"crimson\" in [\"aquamarine\", \"amber\", \"crimson\"]"
   ]
  },
  {
   "cell_type": "code",
   "execution_count": null,
   "metadata": {},
   "outputs": [],
   "source": [
    "\"fuschia\" in [\"aquamarine\", \"amber\", \"crimson\"]"
   ]
  },
  {
   "cell_type": "code",
   "execution_count": null,
   "metadata": {},
   "outputs": [],
   "source": [
    "\"J\" in \"Jupyter\""
   ]
  },
  {
   "cell_type": "code",
   "execution_count": null,
   "metadata": {},
   "outputs": [],
   "source": [
    "\"j\" in \"Jupyter\""
   ]
  },
  {
   "cell_type": "markdown",
   "metadata": {},
   "source": [
    "Similarly, there is `not in`.  This, as you may expect, does the reverse:"
   ]
  },
  {
   "cell_type": "code",
   "execution_count": null,
   "metadata": {},
   "outputs": [],
   "source": [
    "\"crimson\" in [\"aquamarine\", \"amber\", \"crimson\"]"
   ]
  },
  {
   "cell_type": "code",
   "execution_count": null,
   "metadata": {},
   "outputs": [],
   "source": [
    "\"fuschia\" in [\"aquamarine\", \"amber\", \"crimson\"]"
   ]
  },
  {
   "cell_type": "code",
   "execution_count": null,
   "metadata": {},
   "outputs": [],
   "source": [
    "\"J\" in \"Jupyter\""
   ]
  },
  {
   "cell_type": "code",
   "execution_count": null,
   "metadata": {},
   "outputs": [],
   "source": [
    "\"j\" in \"Jupyter\""
   ]
  },
  {
   "cell_type": "markdown",
   "metadata": {},
   "source": [
    "When we are checking strings, Python is checking if the left hand side is included *anywhere* in the right hand side.  So you can check to see if some word is in a given sentence, for example:"
   ]
  },
  {
   "cell_type": "code",
   "execution_count": null,
   "metadata": {},
   "outputs": [],
   "source": [
    "\"py\" in \"Jupyter\""
   ]
  },
  {
   "cell_type": "markdown",
   "metadata": {},
   "source": [
    "This doesn't work with lists:"
   ]
  },
  {
   "cell_type": "code",
   "execution_count": null,
   "metadata": {},
   "outputs": [],
   "source": [
    "[\"amber\", \"crimson\"] in [\"aquamarine\", \"amber\", \"crimson\"]"
   ]
  },
  {
   "cell_type": "markdown",
   "metadata": {},
   "source": [
    "This is because lists can contain other lists.  If you run `[1, 2] in [1, 2, 3]`, Python looks to see if one of the elements of the list is exactly `[1, 2]`."
   ]
  },
  {
   "cell_type": "markdown",
   "metadata": {},
   "source": [
    "**Some string methods**\n",
    "\n",
    "Here are some methods which can be used to work on strings.  You can see these and more [here](https://docs.python.org/3/library/stdtypes.html#str).  One thing to remember string methods is because strings are *immutable*, all string methods leave the original string unchanged.  All they do is return a new string with the desired result.\n",
    "\n",
    "`lower` and `upper`:\n",
    "\n",
    "These commands take a string and put all the letters in lowercase or uppercase, respectively.  This is useful for checking if two strings are the same, ignoring case."
   ]
  },
  {
   "cell_type": "code",
   "execution_count": null,
   "metadata": {},
   "outputs": [],
   "source": [
    "\"Ucla\".lower()"
   ]
  },
  {
   "cell_type": "code",
   "execution_count": null,
   "metadata": {},
   "outputs": [],
   "source": [
    "\"Ucla\".upper()"
   ]
  },
  {
   "cell_type": "code",
   "execution_count": null,
   "metadata": {},
   "outputs": [],
   "source": [
    "\"Ucla\".lower() == \"UCLA\".lower()"
   ]
  },
  {
   "cell_type": "markdown",
   "metadata": {},
   "source": [
    "`replace`:\n",
    "\n",
    "This command lets you replace substrings within a string with something else."
   ]
  },
  {
   "cell_type": "code",
   "execution_count": null,
   "metadata": {},
   "outputs": [],
   "source": [
    "\"confidential information\".replace(\"i\",\"-\")"
   ]
  },
  {
   "cell_type": "code",
   "execution_count": null,
   "metadata": {},
   "outputs": [],
   "source": [
    "\"confidential information\".replace(\"confidential\", \"------\")"
   ]
  },
  {
   "cell_type": "markdown",
   "metadata": {},
   "source": [
    "`join`:\n",
    "\n",
    "This method is the reverse of `.split()` (from lecture).  When you run `s.join(l)` the output is a string that contains each entry of `l` (a list) with a copy of `s` between them.  This allows you to take a list and write it as a comma or space-separated string."
   ]
  },
  {
   "cell_type": "code",
   "execution_count": null,
   "metadata": {},
   "outputs": [],
   "source": [
    "' '.join([\"Space\",\"seperated\",\"string\"])"
   ]
  },
  {
   "cell_type": "code",
   "execution_count": null,
   "metadata": {},
   "outputs": [],
   "source": [
    "\", \".join([\"Comma\",\"seperated\",\"string\"])"
   ]
  },
  {
   "cell_type": "markdown",
   "metadata": {},
   "source": [
    ".\n",
    "\n",
    ".\n",
    "\n",
    ".\n",
    "\n",
    "***Exercise:*** Use the above to write code to check to see if a string `s` contains the letter \"q\" anywhere? (Uppercase OR lowercase!)\n",
    "\n",
    ".\n",
    "\n",
    ".\n",
    "\n",
    ".\n",
    "\n",
    ".\n",
    "\n",
    ".\n",
    "\n",
    ".\n",
    "\n",
    ".\n",
    "\n",
    ".\n",
    "\n",
    ".\n",
    "\n",
    ".\n",
    "\n",
    ".\n",
    "\n",
    "(see my website [here](https://www.math.ucla.edu/~ageo/classes/f20_pic16a/notebook_week1a.html) or discussion video for solution)"
   ]
  },
  {
   "cell_type": "code",
   "execution_count": null,
   "metadata": {},
   "outputs": [],
   "source": []
  },
  {
   "cell_type": "markdown",
   "metadata": {},
   "source": [
    ".\n",
    "\n",
    ".\n",
    "\n",
    ".\n",
    "\n",
    "***Exercise***: Use the above and the `.split()` method from lecture to write code that takes a string `s` and returns a list of every word in `s`, each word in upper case.\n",
    "\n",
    ".\n",
    "\n",
    ".\n",
    "\n",
    ".\n",
    "\n",
    ".\n",
    "\n",
    ".\n",
    "\n",
    ".\n",
    "\n",
    ".\n",
    "\n",
    ".\n",
    "\n",
    ".\n",
    "\n",
    ".\n",
    "\n",
    ".\n",
    "\n",
    ".\n",
    "\n",
    ".\n",
    "\n",
    "(see my website [here](https://www.math.ucla.edu/~ageo/classes/f20_pic16a/notebook_week1a.html) or discussion video for solution)"
   ]
  },
  {
   "cell_type": "code",
   "execution_count": null,
   "metadata": {},
   "outputs": [],
   "source": []
  },
  {
   "cell_type": "markdown",
   "metadata": {},
   "source": [
    "**Functions and methods for strings and lists**\n",
    "\n",
    "`len()`:\n",
    "\n",
    "This gives you the size of a list or a string."
   ]
  },
  {
   "cell_type": "code",
   "execution_count": null,
   "metadata": {},
   "outputs": [],
   "source": [
    "len([1, 2, 3, 4])"
   ]
  },
  {
   "cell_type": "code",
   "execution_count": null,
   "metadata": {},
   "outputs": [],
   "source": [
    "len(\"abc\")"
   ]
  },
  {
   "cell_type": "markdown",
   "metadata": {},
   "source": [
    "Remember that indexing works such that the first character has index 0.  Therefore if `x` is a list or a string, the index `len(x)` points after the last element.  This gives you another way to index the end of a list or string:"
   ]
  },
  {
   "cell_type": "code",
   "execution_count": null,
   "metadata": {},
   "outputs": [],
   "source": [
    "s = \"123456\"\n",
    "print(s[-1], s[len(s)-1])\n",
    "print(s[3:], s[3:len(s)])"
   ]
  },
  {
   "cell_type": "markdown",
   "metadata": {},
   "source": [
    "`index`:\n",
    "\n",
    "This gives you the (first) index of the location of what you're looking for in the string or list.  For strings, it checks for substrings, while for lists, it checks for specific elements."
   ]
  },
  {
   "cell_type": "code",
   "execution_count": null,
   "metadata": {},
   "outputs": [],
   "source": [
    "\"Well, well, well\".index(\"e\")"
   ]
  },
  {
   "cell_type": "code",
   "execution_count": null,
   "metadata": {},
   "outputs": [],
   "source": [
    "\"Well, well, well\".index(\"ll\")"
   ]
  },
  {
   "cell_type": "code",
   "execution_count": null,
   "metadata": {},
   "outputs": [],
   "source": [
    "[1, 1, 2, 3, 5, 8, 13].index(2)"
   ]
  },
  {
   "cell_type": "markdown",
   "metadata": {},
   "source": [
    "`count`:\n",
    "    \n",
    "This counts the number of times an element or substring appears in a list or string."
   ]
  },
  {
   "cell_type": "code",
   "execution_count": null,
   "metadata": {},
   "outputs": [],
   "source": [
    "\"Well, well, well\".count(\"ell\")"
   ]
  },
  {
   "cell_type": "code",
   "execution_count": null,
   "metadata": {},
   "outputs": [],
   "source": [
    "\"Well, well, well\".count(\"Well\")"
   ]
  },
  {
   "cell_type": "code",
   "execution_count": null,
   "metadata": {},
   "outputs": [],
   "source": [
    "[1, 1, 2, 3, 5, 8, 13].count(1)"
   ]
  },
  {
   "cell_type": "markdown",
   "metadata": {},
   "source": [
    "**List methods and syntax**\n",
    "\n",
    "Unlike strings, lists are *mutable*.  List methods and syntax sometimes *can* change the original list (but also sometimes they don't!).  Whenever you use a list method, make sure you know whether or not you're modifying the original list!  All the ones covered so far do not modify the original list.  When looking at the Python documentation, any method that says \"in-place\" modifies the original list.\n",
    "\n",
    "Unfortunately, there's no one good reference for lists in the Python documentation.  [This](https://docs.python.org/3/tutorial/datastructures.html) page lists the important methods, but it's not exclusively focused on lists.\n",
    "\n",
    "`pop`:\n",
    "\n",
    "This method returns an element of the list at a given index and removes it from the original list.  If you don't give it an index, it returns the last."
   ]
  },
  {
   "cell_type": "code",
   "execution_count": null,
   "metadata": {},
   "outputs": [],
   "source": [
    "l = [\"this\", \"is\", \"my\", \"list\", \":)\"]\n",
    "print(l.pop())\n",
    "l"
   ]
  },
  {
   "cell_type": "code",
   "execution_count": null,
   "metadata": {},
   "outputs": [],
   "source": [
    "print(l.pop(1))\n",
    "l"
   ]
  },
  {
   "cell_type": "markdown",
   "metadata": {},
   "source": [
    "`remove`:\n",
    "\n",
    "This removes an element of the list.  This modifies the original list.  It fails if the element is not in the list."
   ]
  },
  {
   "cell_type": "code",
   "execution_count": null,
   "metadata": {},
   "outputs": [],
   "source": [
    "l = [\"here is another list!\", \":)\"]\n",
    "l.remove(\":)\")\n",
    "l"
   ]
  },
  {
   "cell_type": "markdown",
   "metadata": {},
   "source": [
    "`append`:\n",
    "\n",
    "This adds an element to the end of the list.  This modifies the original list."
   ]
  },
  {
   "cell_type": "code",
   "execution_count": null,
   "metadata": {},
   "outputs": [],
   "source": [
    "l = [\"we\", \"finish\", \"each\", \"other's\"]\n",
    "l.append(\"lists!\")\n",
    "l"
   ]
  },
  {
   "cell_type": "markdown",
   "metadata": {},
   "source": [
    "`insert`:\n",
    "\n",
    "This also adds an element to a list, but you choose the index it goes in.  All elements originally at this index or a later one move up one.  As before, this modifies the original list.\n",
    "\n",
    "It might be tricky to remember where the new element is placed because all the indices will change as a result of the new item.  The new element is placed so that it has the index number you give.  Every element that was at an earlier index stays in place, while all others move up one to make room."
   ]
  },
  {
   "cell_type": "code",
   "execution_count": null,
   "metadata": {},
   "outputs": [],
   "source": [
    "l = [\"one\", \"three\", \"four\", \"five\"]\n",
    "l.insert(1, \"two\")\n",
    "l"
   ]
  },
  {
   "cell_type": "markdown",
   "metadata": {},
   "source": [
    "`extend`:\n",
    "    \n",
    "Like `append`, but adds another list to the end (this is called concatenation).  The result is the same as if you used `+`, but it modifies the original list."
   ]
  },
  {
   "cell_type": "code",
   "execution_count": null,
   "metadata": {},
   "outputs": [],
   "source": [
    "l1 = [\"here\", \"is\", \"the\", \"start\", \"of\", \"the\", \"list\"]\n",
    "l2 = [\"and\", \"here\", \"is\", \"the\", \"end!\"]\n",
    "l1.extend(l2)\n",
    "l1"
   ]
  },
  {
   "cell_type": "markdown",
   "metadata": {},
   "source": [
    ".\n",
    "\n",
    ".\n",
    "\n",
    ".\n",
    "\n",
    "***Exercise:*** Write code that takes the last element of a list `l` and places it at the beginning in-place (so modifying the original list).  You can assume the list is not empty.\n",
    "\n",
    ".\n",
    "\n",
    ".\n",
    "\n",
    ".\n",
    "\n",
    ".\n",
    "\n",
    ".\n",
    "\n",
    ".\n",
    "\n",
    ".\n",
    "\n",
    ".\n",
    "\n",
    ".\n",
    "\n",
    ".\n",
    "\n",
    "\n",
    ".\n",
    "\n",
    ".\n",
    "\n",
    "(see my website [here](https://www.math.ucla.edu/~ageo/classes/f20_pic16a/notebook_week1a.html) or discussion video for solution)"
   ]
  },
  {
   "cell_type": "code",
   "execution_count": null,
   "metadata": {},
   "outputs": [],
   "source": []
  },
  {
   "cell_type": "markdown",
   "metadata": {},
   "source": [
    ".\n",
    "\n",
    ".\n",
    "\n",
    ".\n",
    "\n",
    "***Exercise (trickier than the others):*** Write code that creates a list `l` and adds it to *itself* (this is possible in Python).  That is, we want `l in l` to return `True`\n",
    "\n",
    ".\n",
    "\n",
    ".\n",
    "\n",
    ".\n",
    "\n",
    ".\n",
    "\n",
    ".\n",
    "\n",
    ".\n",
    "\n",
    ".\n",
    "\n",
    ".\n",
    "\n",
    ".\n",
    "\n",
    ".\n",
    "\n",
    ".\n",
    "\n",
    ".\n",
    "\n",
    ".\n",
    "\n",
    ".\n",
    "\n",
    ".\n",
    "\n",
    ".\n",
    "\n",
    "(see my website [here](https://www.math.ucla.edu/~ageo/classes/f20_pic16a/notebook_week1a.html) or discussion video for solution)"
   ]
  },
  {
   "cell_type": "code",
   "execution_count": null,
   "metadata": {},
   "outputs": [],
   "source": []
  }
 ],
 "metadata": {
  "kernelspec": {
   "display_name": "Python 3",
   "language": "python",
   "name": "python3"
  },
  "language_info": {
   "codemirror_mode": {
    "name": "ipython",
    "version": 3
   },
   "file_extension": ".py",
   "mimetype": "text/x-python",
   "name": "python",
   "nbconvert_exporter": "python",
   "pygments_lexer": "ipython3",
   "version": "3.8.3"
  }
 },
 "nbformat": 4,
 "nbformat_minor": 4
}
