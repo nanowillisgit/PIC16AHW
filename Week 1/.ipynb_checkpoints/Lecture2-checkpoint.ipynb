{
 "cells": [
  {
   "cell_type": "markdown",
   "metadata": {
    "slideshow": {
     "slide_type": "slide"
    }
   },
   "source": [
    "# Lecture 2\n",
    "Today we cover a few very basics of Python to get you started: \n",
    "1. Variable types\n",
    "2. Comment\n",
    "3. List\n",
    "\n",
    "Reading material: [Python tutorial](https://docs.python.org/3.7/tutorial/) 3.1.1, 3.1.2, 3.1.3, 5.1"
   ]
  },
  {
   "cell_type": "markdown",
   "metadata": {},
   "source": [
    "## 1. Variable types\n",
    "Python will guess the type when you define the variable. For example, if you set x = 2, then Python will make x an integer. If you set x = 2.0, Python will make it a float."
   ]
  },
  {
   "cell_type": "markdown",
   "metadata": {},
   "source": [
    "-  __integer__:  These are the signed integers ...−2,−1,0,1,2,..."
   ]
  },
  {
   "cell_type": "code",
   "execution_count": 1,
   "metadata": {},
   "outputs": [
    {
     "data": {
      "text/plain": [
       "int"
      ]
     },
     "execution_count": 1,
     "metadata": {},
     "output_type": "execute_result"
    }
   ],
   "source": [
    "x = 1\n",
    "type(x)"
   ]
  },
  {
   "cell_type": "code",
   "execution_count": 2,
   "metadata": {},
   "outputs": [
    {
     "data": {
      "text/plain": [
       "float"
      ]
     },
     "execution_count": 2,
     "metadata": {},
     "output_type": "execute_result"
    }
   ],
   "source": [
    "x = 100.0\n",
    "type(x)"
   ]
  },
  {
   "cell_type": "markdown",
   "metadata": {},
   "source": [
    "-  __float__:  real numbers with about 8 digits precision. There are modules that can give you arbitrary precision if needed."
   ]
  },
  {
   "cell_type": "code",
   "execution_count": null,
   "metadata": {},
   "outputs": [],
   "source": [
    "y = 2.0\n",
    "type(y)"
   ]
  },
  {
   "cell_type": "markdown",
   "metadata": {},
   "source": [
    "-  __string__:  A Python string (str) is a sequence of 0 or more characters enclosed within a pair of single quotes (') or a pair of double quotes (\")."
   ]
  },
  {
   "cell_type": "code",
   "execution_count": 5,
   "metadata": {},
   "outputs": [
    {
     "name": "stdout",
     "output_type": "stream",
     "text": [
      "Hello World!\n"
     ]
    }
   ],
   "source": [
    "# a = 'Hello World!'\n",
    "a = \"Hello World!\"\n",
    "type(a)\n",
    "print(a)"
   ]
  },
  {
   "cell_type": "code",
   "execution_count": 9,
   "metadata": {},
   "outputs": [
    {
     "name": "stdout",
     "output_type": "stream",
     "text": [
      "McDonald's\n"
     ]
    }
   ],
   "source": [
    "a = 'McDonald\\'s'\n",
    "print(a)"
   ]
  },
  {
   "cell_type": "code",
   "execution_count": 10,
   "metadata": {},
   "outputs": [
    {
     "name": "stdout",
     "output_type": "stream",
     "text": [
      "McDonald's\n"
     ]
    }
   ],
   "source": [
    "a = \"McDonald's\"\n",
    "print(a)"
   ]
  },
  {
   "cell_type": "code",
   "execution_count": 12,
   "metadata": {},
   "outputs": [
    {
     "name": "stdout",
     "output_type": "stream",
     "text": [
      "McDonald\n",
      "s\n"
     ]
    }
   ],
   "source": [
    "a = \"McDonald\\ns\"\n",
    "print(a)"
   ]
  },
  {
   "cell_type": "code",
   "execution_count": 15,
   "metadata": {},
   "outputs": [
    {
     "name": "stdout",
     "output_type": "stream",
     "text": [
      "McDonald\\ns\n"
     ]
    }
   ],
   "source": [
    "print(r\"McDonald\\ns\")"
   ]
  },
  {
   "cell_type": "code",
   "execution_count": 14,
   "metadata": {},
   "outputs": [
    {
     "name": "stdout",
     "output_type": "stream",
     "text": [
      "abcde\n",
      "abcabcabc\n"
     ]
    }
   ],
   "source": [
    "a = \"abc\"\n",
    "b = \"de\"\n",
    "print(a + b)\n",
    "print(3*a)"
   ]
  },
  {
   "cell_type": "code",
   "execution_count": 19,
   "metadata": {},
   "outputs": [
    {
     "name": "stdout",
     "output_type": "stream",
     "text": [
      "a\n",
      "b\n",
      "e\n",
      "e\n"
     ]
    }
   ],
   "source": [
    "a = \"abcde\"\n",
    "print(a[0])\n",
    "print(a[1])\n",
    "print(a[4])\n",
    "print(a[-1])"
   ]
  },
  {
   "cell_type": "code",
   "execution_count": 21,
   "metadata": {},
   "outputs": [
    {
     "name": "stdout",
     "output_type": "stream",
     "text": [
      "abcdefg\n"
     ]
    }
   ],
   "source": [
    "a = \"abcde\"\n",
    "# print(id(a))\n",
    "# a[2] = \"f\" # error: strings are immutable\n",
    "a = a + \"fg\"\n",
    "print(a)"
   ]
  },
  {
   "cell_type": "code",
   "execution_count": 23,
   "metadata": {},
   "outputs": [
    {
     "name": "stdout",
     "output_type": "stream",
     "text": [
      "4553279600\n",
      "4553260208\n"
     ]
    }
   ],
   "source": [
    "a = \"abcde\"\n",
    "print(id(a))\n",
    "a = a + \"fg\"\n",
    "print(id(a))"
   ]
  },
  {
   "cell_type": "markdown",
   "metadata": {},
   "source": [
    "Exercise: Read 3.1.2 in the [Python tutorial](http://docs.python.org/3.7/tutorial/introduction.html) and check the output of the following:\n",
    "-  `print(\"McDonald's\")`\n",
    "-  `print(\"McDonald\\'s\")`\n",
    "-  `print('McDonald\\'s')`\n",
    "-  `print('McDonald's')`\n",
    "-  `print(r\"McDonald\\'s\")`\n",
    "-  `print(3*\"McDonald\\'s\")`\n",
    "-  `print(\"McDonald\" + \"\\'s\")`\n",
    "-  `print(\"McDonald\" \"\\'s\")`\n",
    "-  ```print(\"\"\"McDonald\n",
    "\n",
    "    \\'s\"\"\")```"
   ]
  },
  {
   "cell_type": "code",
   "execution_count": 24,
   "metadata": {},
   "outputs": [
    {
     "name": "stdout",
     "output_type": "stream",
     "text": [
      "id(a)= 4513644784\n",
      "id(b)= 4513644784\n"
     ]
    }
   ],
   "source": [
    "a = 100\n",
    "print(\"id(a)=\", id(a))\n",
    "b = a\n",
    "print(\"id(b)=\", id(b))"
   ]
  },
  {
   "cell_type": "markdown",
   "metadata": {},
   "source": [
    "The [Python tutorial](http://docs.python.org/3.7/tutorial/introduction.html) offers a helpful representation to show how positive and negative indexes are interpreted:\n",
    "\n",
    "<pre>\n",
    " +---+---+---+---+---+---+\n",
    " | P | y | t | h | o | n |\n",
    " +---+---+---+---+---+---+\n",
    " 0   1   2   3   4   5   6\n",
    "-6  -5  -4  -3  -2  -1\n",
    "</pre>\n",
    "\n",
    "Think of the indices as pointing between characters, with the left edge of the first character numbered 0. Then the right edge of the last character of a string of n characters has index n, "
   ]
  },
  {
   "cell_type": "code",
   "execution_count": null,
   "metadata": {},
   "outputs": [],
   "source": [
    "s = \"Python\"\n",
    "# s[0] = 'z'\n",
    "s2 = s+'a'\n",
    "print(s2)"
   ]
  },
  {
   "cell_type": "markdown",
   "metadata": {},
   "source": [
    "The Python slice notation can be used to access subsequences by specifying two index positions separated by a colon `(:)`; seq[start:stop] returns all the elements in seq between start and stop - 1 (inclusive).\n",
    "\n",
    "__Exercise: Predict and check the output of the following, assuming that s = \"abcdefg\"__\n",
    "```\n",
    "-  print(s[0])\n",
    "-  print(s[6])\n",
    "-  print(s[7])\n",
    "-  print(s[-1])\n",
    "-  print(s[1:3])\n",
    "-  print(s[:3])\n",
    "-  print(s[3:])\n",
    "-  print(s[0:-2])\n",
    "-  print(s[0:100])\n",
    "-  s[0] = 'z'\n",
    "-  s[0:3] = ['x','y','z']\n",
    "-  print(len(s))\n",
    "```"
   ]
  },
  {
   "cell_type": "code",
   "execution_count": 36,
   "metadata": {},
   "outputs": [
    {
     "name": "stdout",
     "output_type": "stream",
     "text": [
      "abcdefg\n",
      "7\n"
     ]
    }
   ],
   "source": [
    "s = \"abcdefg\"\n",
    "# s[start:stop] all the elements from index start to stop -1 inclusive\n",
    "# print(s[1:3]) \n",
    "\n",
    "# print(s[1:])\n",
    "\n",
    "# print(s[:4])\n",
    "\n",
    "#  s[start:stop:step] all the elements from index start to stop -1 inclusive, with step\n",
    "\n",
    "# print(s[1:10:1])\n",
    "print(s[0:10:1])\n",
    "# print(s[1:10:2])\n",
    "\n",
    "# print(s[::-1])\n",
    "# print(s[10:1:-1])\n",
    "print(len(s))"
   ]
  },
  {
   "cell_type": "markdown",
   "metadata": {},
   "source": [
    "## 2. Comments"
   ]
  },
  {
   "cell_type": "markdown",
   "metadata": {},
   "source": [
    "Commenting your code properly will help you and other understand and use it correctly. You should make this a habit when programming anything. Python allows for two types of comments: long multi-line comments and short inline comments. Your codes should contain a long comment at the beginning, which contains information for somebody using your code. \n",
    "\n",
    "The Python ***comment*** character is **`'#'`**: anything after `'#'` on the line is ignored by the Python interpreter. PEP8 style guidelines recommend using at least 2 blank spaces before an inline comment that appears on the same line as any code.\n",
    "\n",
    "***Multi-line strings*** can be used within code blocks to provide multi-line comments.\n",
    "\n",
    "Multi-line strings are delimited by pairs of triple quotes (**`'''`** or **`\"\"\"`**). Any newlines in the string will be represented as `'\\n'` characters in the string."
   ]
  },
  {
   "cell_type": "code",
   "execution_count": 37,
   "metadata": {},
   "outputs": [
    {
     "name": "stdout",
     "output_type": "stream",
     "text": [
      "Before comment\n",
      "After comment\n"
     ]
    }
   ],
   "source": [
    "print('Before comment')  # this is an inline comment\n",
    "'''\n",
    "This is\n",
    "a multi-line\n",
    "comment\n",
    "'''\n",
    "print('After comment')"
   ]
  },
  {
   "cell_type": "markdown",
   "metadata": {},
   "source": [
    "## 3. Lists"
   ]
  },
  {
   "cell_type": "markdown",
   "metadata": {},
   "source": [
    "A [**`list`**](http://docs.python.org/3.7/tutorial/introduction.html#lists) is an ordered ***sequence*** of 0 or more comma-delimited elements enclosed within square brackets ('`[`', '`]`'). The Python [**`str.split(sep)`**](http://docs.python.org/3.7/library/stdtypes.html#str.split) method can be used to split a `sep`-delimited string into a corresponding list of elements.\n",
    "\n",
    "In the following example, a comma-delimited string is split using `sep=','`."
   ]
  },
  {
   "cell_type": "code",
   "execution_count": 39,
   "metadata": {},
   "outputs": [
    {
     "name": "stdout",
     "output_type": "stream",
     "text": [
      "['a', 'b', 'c', 'd', 'e', 'f', 'g']\n",
      "<class 'list'>\n"
     ]
    }
   ],
   "source": [
    "s_str= 'a,b,c,d,e,f,g'\n",
    "s_list = s_str.split(',')\n",
    "print(s_list)\n",
    "print(type(s_list))"
   ]
  },
  {
   "cell_type": "code",
   "execution_count": 40,
   "metadata": {},
   "outputs": [
    {
     "name": "stdout",
     "output_type": "stream",
     "text": [
      "['a', 'b', 'c', 'd', 'e', 'f', 'g']\n"
     ]
    }
   ],
   "source": [
    "s_str= 'a b c d e f g'\n",
    "s_list = s_str.split()\n",
    "print(s_list)"
   ]
  },
  {
   "cell_type": "code",
   "execution_count": 41,
   "metadata": {},
   "outputs": [
    {
     "name": "stdout",
     "output_type": "stream",
     "text": [
      "[1, 3, 5, 7]\n",
      "[2, 4, 6, 8]\n",
      "[8, 7, 6, 5, 4, 3, 2, 1]\n",
      "[8, 7, 6]\n"
     ]
    }
   ],
   "source": [
    "s = [1,2,3,4,5,6,7,8]\n",
    "print(s[::2])  # print elements in even-numbered positions\n",
    "print(s[1::2])  # print elements in odd-numbered positions\n",
    "print(s[::-1])  # print elements in reverse order\n",
    "print(s[:-4:-1])"
   ]
  },
  {
   "cell_type": "markdown",
   "metadata": {},
   "source": [
    "__Exercise:__ Predict and check the output of the following, assuming that `s = ['a','b','c','d','e'] + ['f','g']`\n",
    "has been executed. Which of the following will produce different output from the previous exercise, and what will it be?\n",
    "```\n",
    "-  print(s[0])\n",
    "-  print(s[6])\n",
    "-  print(s[7])\n",
    "-  print(s[-1])\n",
    "-  print(s[1:3])\n",
    "-  print(s[:3])\n",
    "-  print(s[3:])\n",
    "-  print(s[0:-2])\n",
    "-  print(s[0:100])\n",
    "-  s[0] = 'z'; print(s)\n",
    "-  s[0:3] = ['x','y','z']; print(s)\n",
    "```"
   ]
  },
  {
   "cell_type": "code",
   "execution_count": 43,
   "metadata": {},
   "outputs": [
    {
     "name": "stdout",
     "output_type": "stream",
     "text": [
      "['a', 'b', 'c', 'd', 'e', 'f', 'g']\n"
     ]
    }
   ],
   "source": [
    "s = ['a','b','c','d','e']+['f','g']\n",
    "print(s)"
   ]
  },
  {
   "cell_type": "code",
   "execution_count": 45,
   "metadata": {},
   "outputs": [
    {
     "name": "stdout",
     "output_type": "stream",
     "text": [
      "4553884368\n",
      "[100, 'b', 'c', 'd', 'e']\n",
      "4553884368\n"
     ]
    }
   ],
   "source": [
    "s = ['a','b','c','d','e']\n",
    "print(id(s))\n",
    "s[0] = 100 # python lists are mutable \n",
    "print(s)\n",
    "print(id(s))\n"
   ]
  },
  {
   "cell_type": "markdown",
   "metadata": {},
   "source": [
    "Lists may also have lists as their elements:"
   ]
  },
  {
   "cell_type": "code",
   "execution_count": null,
   "metadata": {},
   "outputs": [],
   "source": [
    "K=[[1,2],[3,4,5],'s']\n",
    "print(K[0][1])\n",
    "print(K[0][:])\n",
    "print(K[1])\n",
    "print(K[2])"
   ]
  },
  {
   "cell_type": "code",
   "execution_count": 47,
   "metadata": {},
   "outputs": [
    {
     "name": "stdout",
     "output_type": "stream",
     "text": [
      "a [1, 2]\n",
      "b [[1, 2], [0]]\n",
      "a [1, 100]\n",
      "b [[1, 100], [0]]\n"
     ]
    }
   ],
   "source": [
    "a = [1,2]\n",
    "b = [a, [0]]\n",
    "print(\"a\", a)\n",
    "print(\"b\", b)\n",
    "\n",
    "a[1] = 100\n",
    "print(\"a\", a)\n",
    "print(\"b\", b)"
   ]
  },
  {
   "cell_type": "code",
   "execution_count": 51,
   "metadata": {},
   "outputs": [
    {
     "name": "stdout",
     "output_type": "stream",
     "text": [
      "hello world\n"
     ]
    }
   ],
   "source": [
    "s = \"hello\"\n",
    "b = \"world\"\n",
    "print(s,b)"
   ]
  },
  {
   "cell_type": "code",
   "execution_count": 52,
   "metadata": {},
   "outputs": [
    {
     "name": "stdout",
     "output_type": "stream",
     "text": [
      "3\n"
     ]
    }
   ],
   "source": [
    "a = [1,2,3]\n",
    "print(len(a))"
   ]
  },
  {
   "cell_type": "markdown",
   "metadata": {},
   "source": [
    "In python, if say __if L:__ then the list L is interpreted as true if it is nonempty, and false otherwise."
   ]
  },
  {
   "cell_type": "code",
   "execution_count": null,
   "metadata": {},
   "outputs": [],
   "source": [
    "L = [1,2]\n",
    "if L:\n",
    "    print(\"The list is nonempty\")"
   ]
  },
  {
   "cell_type": "markdown",
   "metadata": {},
   "source": [
    "__List comprehension__ is an extremely intuitive and efficient way to create lists in python."
   ]
  },
  {
   "cell_type": "code",
   "execution_count": null,
   "metadata": {},
   "outputs": [],
   "source": [
    "[i**2 for i in range(6)]"
   ]
  },
  {
   "cell_type": "code",
   "execution_count": null,
   "metadata": {},
   "outputs": [],
   "source": [
    "[i**2 for i in range(5) if i%2==0]"
   ]
  },
  {
   "cell_type": "code",
   "execution_count": null,
   "metadata": {},
   "outputs": [],
   "source": [
    "[0 for _ in range(5)] #we can use _ if we don't need a variable"
   ]
  },
  {
   "cell_type": "code",
   "execution_count": null,
   "metadata": {},
   "outputs": [],
   "source": [
    "[i+j for i in range(2) for j in range(4)]"
   ]
  },
  {
   "cell_type": "code",
   "execution_count": null,
   "metadata": {},
   "outputs": [],
   "source": [
    "[[i+j for i in range(2)] for j in range(4)]"
   ]
  },
  {
   "cell_type": "markdown",
   "metadata": {},
   "source": [
    "### Mutability"
   ]
  },
  {
   "cell_type": "markdown",
   "metadata": {},
   "source": [
    "One important distinction between strings and lists has to do with their [*mutability*](http://docs.python.org/3.7/reference/datamodel.html).\n",
    "\n",
    "Python strings are *immutable*, i.e., they cannot be modified. Most string methods (like `str.strip()`) return modified *copies* of the strings on which they are used.\n",
    "\n",
    "Python lists are *mutable*, i.e., they can be modified. \n",
    "\n",
    "The examples below illustrate a number of [`list`](http://docs.python.org/3.7/tutorial/datastructures.html#more-on-lists) methods that modify lists."
   ]
  },
  {
   "cell_type": "code",
   "execution_count": 48,
   "metadata": {},
   "outputs": [
    {
     "name": "stdout",
     "output_type": "stream",
     "text": [
      "list_1: [1, 2, 3, 5, 1]\n",
      "list_2: [1, 2, 3, 5, 1]\n",
      "list_1.remove(1):    [2, 3, 5, 1]\n",
      "list_1.pop(2):       [2, 3, 1]\n",
      "list_1.append(6):    [2, 3, 1, 6]\n",
      "list_1.insert(0, 7): [7, 2, 3, 1, 6]\n",
      "list_1.sort():       [1, 2, 3, 6, 7]\n",
      "list_1.reverse():    [7, 6, 3, 2, 1]\n"
     ]
    }
   ],
   "source": [
    "list_1 = [1, 2, 3, 5, 1]\n",
    "list_2 = list_1  # list_2 now references the same object as list_1\n",
    "\n",
    "print('list_1:', list_1)\n",
    "print('list_2:', list_2)\n",
    "\n",
    "list_1.remove(1)  # remove [only] the first occurrence of 1 in list_1\n",
    "print('list_1.remove(1):   ', list_1)\n",
    "\n",
    "list_1.pop(2)  # remove the element in position 2\n",
    "print('list_1.pop(2):      ', list_1)\n",
    "\n",
    "list_1.append(6)  # add 6 to the end of list_1\n",
    "print('list_1.append(6):   ', list_1)\n",
    "\n",
    "list_1.insert(0, 7)  # add 7 to the beinning of list_1 (before the element in position 0)\n",
    "print('list_1.insert(0, 7):', list_1)\n",
    "\n",
    "list_1.sort()\n",
    "print('list_1.sort():      ', list_1)\n",
    "\n",
    "list_1.reverse()\n",
    "print('list_1.reverse():   ', list_1)"
   ]
  },
  {
   "cell_type": "code",
   "execution_count": 49,
   "metadata": {},
   "outputs": [
    {
     "name": "stdout",
     "output_type": "stream",
     "text": [
      "list_1: [7, 6, 3, 2, 1]\n",
      "list_2: [7, 6, 3, 2, 1]\n"
     ]
    }
   ],
   "source": [
    "print('list_1:', list_1)\n",
    "print('list_2:', list_2)"
   ]
  },
  {
   "cell_type": "markdown",
   "metadata": {},
   "source": [
    "We can create __a copy of a list__ by using slice notation and not specifying a start or end parameter, i.e., [:], and if we assign that copy to another variable, the variables will be bound to different objects, so changes to one do not affect the other."
   ]
  },
  {
   "cell_type": "code",
   "execution_count": 50,
   "metadata": {},
   "outputs": [
    {
     "name": "stdout",
     "output_type": "stream",
     "text": [
      "list_1: [1, 2, 3, 5, 1]\n",
      "list_2: [1, 2, 3, 5, 1]\n",
      "list_1.remove(1):    [2, 3, 5, 1]\n",
      "list_1: [2, 3, 5, 1]\n",
      "list_2: [1, 2, 3, 5, 1]\n"
     ]
    }
   ],
   "source": [
    "list_1 = [1, 2, 3, 5, 1]\n",
    "list_2 = list_1[:]  # list_1[:] returns a copy of the entire contents of list_1\n",
    "\n",
    "print('list_1:', list_1)\n",
    "print('list_2:', list_2)\n",
    "\n",
    "list_1.remove(1)  # remove [only] the first occurrence of 1 in list_1\n",
    "print('list_1.remove(1):   ', list_1)\n",
    "\n",
    "print('list_1:', list_1)\n",
    "print('list_2:', list_2)"
   ]
  },
  {
   "cell_type": "markdown",
   "metadata": {},
   "source": [
    "## Exercises"
   ]
  },
  {
   "cell_type": "markdown",
   "metadata": {},
   "source": [
    "- Use list comprehension to create the following object:  [[1,2,3],[2,4,6],[3,6,9],[4,8,12]] ."
   ]
  },
  {
   "cell_type": "code",
   "execution_count": null,
   "metadata": {},
   "outputs": [],
   "source": []
  },
  {
   "cell_type": "markdown",
   "metadata": {},
   "source": [
    "- Use list comprehension to create the following object:[0,0,0,0,1,2,0,2,4,0,3,6,0,4,8,0,5,10]."
   ]
  },
  {
   "cell_type": "code",
   "execution_count": null,
   "metadata": {},
   "outputs": [],
   "source": []
  }
 ],
 "metadata": {
  "kernelspec": {
   "display_name": "Python 3",
   "language": "python",
   "name": "python3"
  },
  "language_info": {
   "codemirror_mode": {
    "name": "ipython",
    "version": 3
   },
   "file_extension": ".py",
   "mimetype": "text/x-python",
   "name": "python",
   "nbconvert_exporter": "python",
   "pygments_lexer": "ipython3",
   "version": "3.8.5"
  }
 },
 "nbformat": 4,
 "nbformat_minor": 2
}
