{
 "cells": [
  {
   "cell_type": "markdown",
   "metadata": {},
   "source": [
    "### PIC 16 A,   Fall 2020    Midterm Exam\n",
    "\n",
    "You will have 50 minutes to complete the exam. If you finish early, go back and check your work. This exam consists of 4 questions with parts.\n",
    "\n",
    "If test cases are provided in a separate cell, you should execute your solution cell before executing the test case cell. \n",
    "\n",
    "When you are done, submit on CCLE only this .ipynb file with your solutions. Good luck!\n",
    "\n",
    "**Important:** Please __double-check__ your submission on CCLE and make sure that it is the correct file."
   ]
  },
  {
   "cell_type": "code",
   "execution_count": 13,
   "metadata": {},
   "outputs": [
    {
     "data": {
      "text/plain": [
       "'\\n@author: Aatmun Baxi\\n@student-id: 104-988-904\\n'"
      ]
     },
     "execution_count": 13,
     "metadata": {},
     "output_type": "execute_result"
    }
   ],
   "source": [
    "\"\"\"\n",
    "@author: Aatmun Baxi\n",
    "@student-id: 104-988-904\n",
    "\"\"\""
   ]
  },
  {
   "cell_type": "markdown",
   "metadata": {},
   "source": [
    "<b>1. (7 pts)</b><br>\n",
    "Write a <i>lambda</i> function <tt>trimReduceReverse</tt> that accepts a list argument and performs the following:\n",
    "<ul>\n",
    "<li>eliminates the first two elements,</li>\n",
    "<li>removes any entries that are <tt>None</tt>, and</li>\n",
    "<li>returns the remaining list in reverse order.</li>\n",
    "</ul> <br>\n",
    "For full credit, avoid the use of the <tt>reverse</tt> method, and the <tt>len</tt>, <tt>range</tt>, and <tt>reversed</tt> functions."
   ]
  },
  {
   "cell_type": "code",
   "execution_count": 2,
   "metadata": {},
   "outputs": [],
   "source": [
    "# put your code here\n",
    "\n",
    "# Traverses the list backwards with the slice stopping at the second element\n",
    "# Only adds element to returned list if element is not None\n",
    "trimReduceReverse = lambda L: [ i for i in L[:1:-1] if i]"
   ]
  },
  {
   "cell_type": "markdown",
   "metadata": {},
   "source": [
    "Test it by running the cell below. The result should be <tt>[6, 5, 4, 3]</tt>."
   ]
  },
  {
   "cell_type": "code",
   "execution_count": 3,
   "metadata": {},
   "outputs": [
    {
     "name": "stdout",
     "output_type": "stream",
     "text": [
      "[6, 5, 4, 3]\n"
     ]
    }
   ],
   "source": [
    "# DO NOT DELETE\n",
    "a = [1,2,None,3,4,None,5,6]\n",
    "print(trimReduceReverse(a))"
   ]
  },
  {
   "cell_type": "markdown",
   "metadata": {},
   "source": [
    "<b>2. (8 pts)</b><br>\n",
    "Write a function <tt>firstUnique</tt> that takes as input a string, finds the first non-repeating character in it, and returns its index. If the input string does not contain any non-repeating characters, return <tt>-1</tt>.\n",
    "\n",
    "For full credit, avoid the use of the <tt>count</tt> method and any <tt>Counter</tt> object. "
   ]
  },
  {
   "cell_type": "code",
   "execution_count": 4,
   "metadata": {},
   "outputs": [],
   "source": [
    "# put your code here\n",
    "def firstUnique(s):\n",
    "    \"\"\"Returns first non-repeating character of input string\n",
    "    @param s: input string\n",
    "    @return: first non-repeating character\n",
    "    \"\"\"\n",
    "    for i in range(0,len(s)):\n",
    "        # Create list of all letters except the one of the current index\n",
    "        others = list(s)\n",
    "        del others[i]\n",
    "        \n",
    "        # Return if it does not repeat\n",
    "        if s[i] not in others:\n",
    "            return i\n",
    "        \n",
    "    # Gets here if no non-repeating characters\n",
    "    return -1"
   ]
  },
  {
   "cell_type": "markdown",
   "metadata": {},
   "source": [
    "Test it by running the cell below. \n",
    "The results should be \n",
    "```\n",
    "4\n",
    "0\n",
    "-1\n",
    "```\n",
    "since the first non-repeating character in the first two test cases are \"e\" and \"p\", respectively. The third test case does not have any non-repeating characters."
   ]
  },
  {
   "cell_type": "code",
   "execution_count": 5,
   "metadata": {},
   "outputs": [
    {
     "name": "stdout",
     "output_type": "stream",
     "text": [
      "4\n",
      "0\n",
      "-1\n"
     ]
    }
   ],
   "source": [
    "# DO NOT DELETE\n",
    "print(firstUnique(\"abcdefgabcdfg\"))\n",
    "print(firstUnique(\"piazza\"))\n",
    "print(firstUnique(\"abba\"))"
   ]
  },
  {
   "cell_type": "markdown",
   "metadata": {},
   "source": [
    "<b>3. (13 pts)</b><br>\n",
    "The file <tt>ucla-calendar2020Fall.txt</tt> contains the 2020 Fall UCLA Academic Calendar.\n",
    "Using regular expressions, write a function ``findHolidays(s)`` that detects all the holidays in the calendar, and returns all the holidays as a list of strings in the following format :<br>\n",
    "\n",
    "```\n",
    "Veterans Day holiday : Nov. 11\n",
    "Thanksgiving holiday : Nov. 26-27\n",
    "...\n",
    "```"
   ]
  },
  {
   "cell_type": "code",
   "execution_count": 6,
   "metadata": {},
   "outputs": [],
   "source": [
    "# put your code here\n",
    "import re\n",
    "\n",
    "def findHolidays(s):\n",
    "    \"\"\"Parses string to find and format holidays\n",
    "    @param s: input string to search for holidays in\n",
    "    @return: list of formatted holidays\n",
    "    \"\"\"\n",
    "    # Split input string by newlines\n",
    "    srow = re.split(r'\\n',s)\n",
    "    holidays = []\n",
    "    \n",
    "    # Looking through each row...\n",
    "    for line in srow:\n",
    "        # If the line contains 'holiday'...\n",
    "        if re.search(r'holiday', line):\n",
    "            \n",
    "            # Format the holiday accordingly and append to holiday list\n",
    "            \n",
    "            ######## Regex capture groups:\n",
    "            ## \\1 ## (^.*holiday) grabs start of line to end of holiday for the name of the holiday\n",
    "            ## \\2 ## ([A-Z]{1}[a-z]{2}) first three letters of month name with capital letter beginning\n",
    "            ## \\3 ## (\\d+.*\\d*) digits of date or range of dates; terminate at $\n",
    "            holidays.append(str(\n",
    "                             re.sub(\n",
    "                                  r'(^.*holiday).*,[ ]([A-Z]{1}[a-z]{2}).*[ ](\\d+.*\\d*)$',\n",
    "                                                r'\\1 : \\2. \\3', line ) ) )\n",
    "    return holidays"
   ]
  },
  {
   "cell_type": "markdown",
   "metadata": {},
   "source": [
    "(1) Test your function by running the cell below. The result should be: \n",
    "```\n",
    "['Veterans Day holiday : Nov. 11']\n",
    "```"
   ]
  },
  {
   "cell_type": "code",
   "execution_count": 14,
   "metadata": {},
   "outputs": [
    {
     "name": "stdout",
     "output_type": "stream",
     "text": [
      "['Veterans Day holiday : Nov. 11']\n"
     ]
    }
   ],
   "source": [
    "# DO NOT DELETE\n",
    "test_string1 = 'Veterans Day holiday . . . . . . . . . . . . . . Wednesday, November 11'\n",
    "print(findHolidays(test_string1))"
   ]
  },
  {
   "cell_type": "markdown",
   "metadata": {},
   "source": [
    "(2) Write code to read the file `ucla-calendar2020Fall.txt` into a string `test_string2`. We assume that the text file is present in the same directory as this notebook."
   ]
  },
  {
   "cell_type": "code",
   "execution_count": 8,
   "metadata": {},
   "outputs": [],
   "source": [
    "# Put your code here\n",
    "with open(\"ucla-calendar2020Fall.txt\", 'r') as f:\n",
    "    test_string2 = f.read()"
   ]
  },
  {
   "cell_type": "markdown",
   "metadata": {},
   "source": [
    "Test the following cell as well. The result should be:\n",
    "\n",
    "```\n",
    "Veterans Day holiday : Nov. 11\n",
    "Thanksgiving holiday : Nov. 26-27\n",
    "Christmas holiday : Dec. 24-25\n",
    "```"
   ]
  },
  {
   "cell_type": "code",
   "execution_count": 15,
   "metadata": {},
   "outputs": [
    {
     "name": "stdout",
     "output_type": "stream",
     "text": [
      "Veterans Day holiday : Nov. 11\n",
      "Thanksgiving holiday : Nov. 26-27\n",
      "Christmas holiday : Dec. 24-25\n"
     ]
    }
   ],
   "source": [
    "# DO NOT DELETE\n",
    "## I manually corrected this cell for the print formatting\n",
    "for holiday in findHolidays(test_string2):\n",
    "    print(holiday)"
   ]
  },
  {
   "cell_type": "markdown",
   "metadata": {},
   "source": [
    "<b>4. (22 pts)</b><br>\n",
    "Create a class called `MyList`. \n",
    "\n",
    "- This class creates objects that have a value attribute `val`, which is a Python List of integers. The following should work:\n",
    "```Python\n",
    ">>> x1 = MyList([3,4,7,6])\n",
    ">>> print(x1.val)\n",
    "   [3,4,7,6]\n",
    ">>> print(x1)\n",
    "   [3,4,7,6]\n",
    "```\n",
    "- The class has a method `delMax()`, which deletes a maximal value from the list (making the list shorter). If there are multiple maximum values, delete the first one. The following should work:\n",
    "```Python\n",
    ">>> x2 = MyList([3,4,7,6,8,7])\n",
    ">>> x2.delMax()\n",
    ">>> print(x2)\n",
    "   [3,4,7,6,7]\n",
    ">>> x2.delMax()\n",
    ">>> print(x2)\n",
    "   [3,4,6,7]\n",
    "```\n",
    "- The class has a method `doubleMax()`, which doubles the current max element in place. If there are multiple maximum values, double all of them. The following should work:\n",
    "```Python\n",
    ">>> x3 = MyList([3,4,7,6])\n",
    ">>> x3.doubleMax()\n",
    ">>> print(x3)\n",
    "   [3,4,14,6]\n",
    ">>> x4 = MyList([3,4,7,6,7])\n",
    ">>> x4.doubleMax()\n",
    ">>> print(x4)\n",
    "   [3,4,14,6,14]\n",
    "```\n",
    "    \n",
    "- Overload the operator `+` by defining an `__add__` method so that we can perform element-wise addition of two `MyList` objects. The returned object should also be a `MyList` object. If the lengths of the two lists are not the same, raise a `RuntimeError` exception and print an error message `\"Need two lists of identical lengths\"`.\n",
    "The following should work:\n",
    "```Python\n",
    ">>> x5 = MyList([3,4,7,6])\n",
    ">>> x6 = MyList([3,4,7])\n",
    ">>> x7 = MyList([1,2,3])\n",
    ">>> print(x6+x7)\n",
    "    [4,6,10]\n",
    ">>> print((x6+x7).val)\n",
    "    [4,6,10]\n",
    ">>> print(x6)\n",
    "    [3,4,7]\n",
    ">>> try:\n",
    "        print(x5+x6)\n",
    "    except RuntimeError as e:\n",
    "        print(e)\n",
    ">>> Need two lists of identical lengths\n",
    "```\n",
    "\n",
    "- MyList is iterable. We can iterate over the elements in `val` in ascending order. The following should work:\n",
    "```Python\n",
    ">>> x8 = MyList([3,5,4,7,6,6,4])\n",
    ">>> for el in x8:\n",
    ">>>     print(el, end =\" \")\n",
    "3 4 4 5 6 6 7\n",
    ">>> for el in x8:\n",
    ">>>     print(el, end =\" \")\n",
    "3 4 4 5 6 6 7\n",
    ">>> print(x8)\n",
    "    [3,5,4,7,6,6,4]\n",
    "```\n",
    "- The iterator of MyList also has a method `pre()`. This method returns the element that was returned by the previous call to `next()`. If `pre()` is called before the first call to `next()`, the `pre()` method should return a string `\"next() has not been called\"`. The following should work:\n",
    "```Python\n",
    ">>> x9 = MyList([5,4,7])\n",
    ">>> iterator = iter(x9)\n",
    ">>> print(iterator.pre())\n",
    "next() has not been called\n",
    ">>> print(next(iterator))\n",
    "4\n",
    ">>> print(iterator.pre())\n",
    "4\n",
    ">>> print(next(iterator))\n",
    "5\n",
    ">>> print(next(iterator))\n",
    "7\n",
    ">>> print(iterator.pre())\n",
    "7\n",
    "```\n"
   ]
  },
  {
   "cell_type": "code",
   "execution_count": 10,
   "metadata": {},
   "outputs": [],
   "source": [
    "# put your code here:\n",
    "\n",
    "class MyList:\n",
    "    \"\"\"Custom list wrapper object with some elementwise operations\"\"\"\n",
    "    \n",
    "    def __init__(self, val):\n",
    "        self.val = val\n",
    "    \n",
    "    def __str__(self):\n",
    "        \"\"\"Abstract str to work on the MyList object\"\"\"\n",
    "        return str(self.val)\n",
    "    \n",
    "    def delMax(self):\n",
    "        \"\"\"Removes first instance of maximum element of list member\"\"\"\n",
    "        mx = max(self.val)\n",
    "        self.val.remove(mx)\n",
    "    \n",
    "    def doubleMax(self):\n",
    "        \"\"\"Doubles all instances of maximum element of list member\"\"\"\n",
    "        mx = max(self.val)\n",
    "        \n",
    "        # Double value inplace if equal to the max\n",
    "        for i in range(0,len(self.val)):\n",
    "            if self.val[i] == mx:\n",
    "                self.val[i] = (self.val[i] * 2)\n",
    "    \n",
    "    def __add__(self, s):\n",
    "        \"\"\"Implements elementwise addition of two MyLists\n",
    "        @param s: Other MyList object to be used as summand\n",
    "        @return: elementwise sum of the two lists\n",
    "        \"\"\"\n",
    "        if len(self.val) != len(s.val):\n",
    "            raise RuntimeError(r'Need two lists of identical lengths')\n",
    "        \n",
    "        added = list( map( lambda x,y: x+y, self.val, s.val) )\n",
    "        return MyList(added)\n",
    "    \n",
    "    def __iter__(self):\n",
    "        return MyListIterator(self)\n",
    "    \n",
    "    \n",
    "\n",
    "class MyListIterator:\n",
    "    \"\"\"Iterator for MyList, iterates over ascending-order sorted MyList.val member\"\"\"\n",
    "    \n",
    "    def __init__(self, obj):\n",
    "        \"\"\"Initialize iterator object for MyList\n",
    "        @param obj: the MyList this iterator will wrap over\n",
    "        \"\"\"\n",
    "        # Reduce side effects, don't initialize obj as the MyList.val since lists are mutable\n",
    "        self.obj = obj\n",
    "        self.nxtcalled = False\n",
    "        self.idx = -1\n",
    "        \n",
    "    def __next__(self):\n",
    "        \"\"\"Next function\n",
    "        @return: next element in sorted MyList.val list\n",
    "        \"\"\"\n",
    "        if self.idx == len(self.obj.val) - 1:\n",
    "            raise StopIteration\n",
    "        self.idx += 1\n",
    "        self.nxtcalled = True\n",
    "        \n",
    "        # Just call next on the sorted version of MyList's val member\n",
    "        return sorted(self.obj.val)[self.idx]\n",
    "    \n",
    "    def pre(self):\n",
    "        \"\"\"Returns whatever the previous call of next() was,\n",
    "            Prints warning if no instance of next() called\n",
    "        @return: Warning or return of previous call of next(self)\n",
    "        \"\"\"\n",
    "        if not self.nxtcalled:\n",
    "            return \"next() has not been called\"\n",
    "        self.idx -= 1\n",
    "        return next(self)"
   ]
  },
  {
   "cell_type": "markdown",
   "metadata": {},
   "source": [
    "Test it by running the cell below. The result should be<br>\n",
    "```\n",
    "--- test 1 ---\n",
    "\n",
    "[3, 4, 7, 6]\n",
    "[3, 4, 7, 6]\n",
    "\n",
    "--- test 2 ---\n",
    "\n",
    "[3, 4, 7, 6, 7]\n",
    "[3, 4, 6, 7]\n",
    "\n",
    "--- test 3 ---\n",
    "\n",
    "[3, 4, 14, 6]\n",
    "[3, 4, 14, 6, 14]\n",
    "\n",
    "--- test 4 ---\n",
    "\n",
    "[4, 6, 10]\n",
    "[4, 6, 10]\n",
    "[3, 4, 7]\n",
    "Need two lists of identical lengths\n",
    "\n",
    "--- test 5 ---\n",
    "\n",
    "3 4 4 5 6 6 7 \n",
    "\n",
    "3 4 4 5 6 6 7 \n",
    "\n",
    "[3, 5, 4, 7, 6, 6, 4]\n",
    "\n",
    "--- test 6 ---\n",
    "\n",
    "next() has not been called\n",
    "4\n",
    "4\n",
    "5\n",
    "7\n",
    "7\n",
    "```"
   ]
  },
  {
   "cell_type": "code",
   "execution_count": 11,
   "metadata": {},
   "outputs": [
    {
     "name": "stdout",
     "output_type": "stream",
     "text": [
      "--- test 1 ---\n",
      "\n",
      "[3, 4, 7, 6]\n",
      "[3, 4, 7, 6]\n",
      "\n",
      "--- test 2 ---\n",
      "\n",
      "[3, 4, 7, 6, 7]\n",
      "[3, 4, 6, 7]\n",
      "\n",
      "--- test 3 ---\n",
      "\n",
      "[3, 4, 14, 6]\n",
      "[3, 4, 14, 6, 14]\n",
      "\n",
      "--- test 4 ---\n",
      "\n",
      "[4, 6, 10]\n",
      "[4, 6, 10]\n",
      "[3, 4, 7]\n",
      "Need two lists of identical lengths\n",
      "\n",
      "--- test 5 ---\n",
      "\n",
      "3 4 4 5 6 6 7 \n",
      "\n",
      "3 4 4 5 6 6 7 \n",
      "\n",
      "[3, 5, 4, 7, 6, 6, 4]\n",
      "\n",
      "--- test 6 ---\n",
      "\n",
      "next() has not been called\n",
      "4\n",
      "4\n",
      "5\n",
      "7\n",
      "7\n"
     ]
    }
   ],
   "source": [
    "# DO NOT DELETE\n",
    "# test your code here\n",
    "\n",
    "print(\"--- test 1 ---\\n\")\n",
    "x1 = MyList([3,4,7,6])\n",
    "print(x1.val)\n",
    "print(x1)\n",
    "\n",
    "\n",
    "print(\"\\n--- test 2 ---\\n\")\n",
    "x2 = MyList([3,4,7,6,8,7])\n",
    "x2.delMax()\n",
    "print(x2)\n",
    "x2.delMax()\n",
    "print(x2)\n",
    "\n",
    "print(\"\\n--- test 3 ---\\n\")\n",
    "x3 = MyList([3,4,7,6])\n",
    "x3.doubleMax()\n",
    "print(x3)\n",
    "x4 = MyList([3,4,7,6,7])\n",
    "x4.doubleMax()\n",
    "print(x4)\n",
    "\n",
    "print(\"\\n--- test 4 ---\\n\")\n",
    "x5 = MyList([3,4,7,6])\n",
    "x6 = MyList([3,4,7])\n",
    "x7 = MyList([1,2,3])\n",
    "print(x6+x7)\n",
    "print((x6+x7).val)\n",
    "print(x6)\n",
    "try:\n",
    "    print(x5+x6)\n",
    "except RuntimeError as e:\n",
    "    print(e)\n",
    "\n",
    "\n",
    "print(\"\\n--- test 5 ---\\n\")\n",
    "x8 = MyList([3,5,4,7,6,6,4])\n",
    "for el in x8:\n",
    "    print(el, end =\" \")\n",
    "print(\"\\n\")\n",
    "for el in x8:\n",
    "    print(el, end =\" \")\n",
    "print(\"\\n\")\n",
    "print(x8)\n",
    "    \n",
    "\n",
    "print(\"\\n--- test 6 ---\\n\")\n",
    "x9 = MyList([5,4,7])\n",
    "iterator = iter(x9)\n",
    "print(iterator.pre())\n",
    "print(next(iterator))\n",
    "print(iterator.pre())\n",
    "print(next(iterator))\n",
    "print(next(iterator))\n",
    "print(iterator.pre())"
   ]
  },
  {
   "cell_type": "code",
   "execution_count": null,
   "metadata": {},
   "outputs": [],
   "source": []
  }
 ],
 "metadata": {
  "kernelspec": {
   "display_name": "Python 3",
   "language": "python",
   "name": "python3"
  },
  "language_info": {
   "codemirror_mode": {
    "name": "ipython",
    "version": 3
   },
   "file_extension": ".py",
   "mimetype": "text/x-python",
   "name": "python",
   "nbconvert_exporter": "python",
   "pygments_lexer": "ipython3",
   "version": "3.8.6"
  }
 },
 "nbformat": 4,
 "nbformat_minor": 2
}
