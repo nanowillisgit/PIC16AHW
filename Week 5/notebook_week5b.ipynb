{
 "cells": [
  {
   "cell_type": "markdown",
   "metadata": {},
   "source": [
    "# Midterm Review"
   ]
  },
  {
   "cell_type": "markdown",
   "metadata": {},
   "source": [
    "***Exercise 1:*** Use appropriate string and list syntax to do the following:\n",
    "- Create a list of every square number between 1 and 100.\n",
    "- Create the string \"2, 4, 6, 8, ..., 100\" (all even numbers between 2 and 100 separated by commas).\n",
    "- Turn the a string that consists of words (separated by exactly one space) into a list of words in lowercase.\n",
    "\n",
    "(see my website [here](https://www.math.ucla.edu/~ageo/classes/f20_pic16a/notebook_week5b.html) or discussion video for solution)"
   ]
  },
  {
   "cell_type": "code",
   "execution_count": null,
   "metadata": {},
   "outputs": [],
   "source": []
  },
  {
   "cell_type": "markdown",
   "metadata": {},
   "source": [
    "***Exercise 2:*** Write a `filter_list()` function.  This takes in two parameters: a list and a function.  The function should return True or False for every element in the list.  Return a new list consisting of only the elements of the list that return True with the function (in the same order).\n",
    "\n",
    "Then, use lambda expressions and your filter function to do the following things:\n",
    "- Remove all odd numbers from a list of integers\n",
    "- Remove all strings that don't match the regular expression `[a-z]{4}\\d{3}` from a list of strings\n",
    "- Randomly remove elements with 50\\% probability of any list.  That is, flip a coin for each element and remove it if it is tails.\n",
    "\n",
    "(see my website [here](https://www.math.ucla.edu/~ageo/classes/f20_pic16a/notebook_week5b.html) or discussion video for solution)"
   ]
  },
  {
   "cell_type": "code",
   "execution_count": null,
   "metadata": {},
   "outputs": [],
   "source": []
  },
  {
   "cell_type": "markdown",
   "metadata": {},
   "source": [
    "***Exercise 3:*** Make a `Queue` class.  A queue is a data structure where you have two main methods: `push()` and `pop()`.  Items are added to the queue with `push()` and returned one at a time in the same order with `pop()`.  Once an item has been popped from a queue it will never be returned again.  We also want to be able to iterate through our queue.  If we completely loop through it, we will deplete it so that it is empty again.\n",
    "\n",
    "(see my website [here](https://www.math.ucla.edu/~ageo/classes/f20_pic16a/notebook_week5b.html) or discussion video for solution)"
   ]
  },
  {
   "cell_type": "code",
   "execution_count": null,
   "metadata": {},
   "outputs": [],
   "source": []
  },
  {
   "cell_type": "markdown",
   "metadata": {},
   "source": [
    "***Exercise 4:*** Use regular expressions to write a function `validate` that tests if a password (as a string) has all of the following:\n",
    "- At least eight characters\n",
    "- No whitespace\n",
    "- A lower case letter\n",
    "- A capital letter\n",
    "- A number\n",
    "- One of the symbols !@#$%^&*()\n",
    "\n",
    "(see my website [here](https://www.math.ucla.edu/~ageo/classes/f20_pic16a/notebook_week5b.html) or discussion video for solution)"
   ]
  },
  {
   "cell_type": "code",
   "execution_count": null,
   "metadata": {},
   "outputs": [],
   "source": []
  }
 ],
 "metadata": {
  "kernelspec": {
   "display_name": "Python 3",
   "language": "python",
   "name": "python3"
  },
  "language_info": {
   "codemirror_mode": {
    "name": "ipython",
    "version": 3
   },
   "file_extension": ".py",
   "mimetype": "text/x-python",
   "name": "python",
   "nbconvert_exporter": "python",
   "pygments_lexer": "ipython3",
   "version": "3.8.3"
  }
 },
 "nbformat": 4,
 "nbformat_minor": 4
}
